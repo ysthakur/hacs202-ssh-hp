{
 "cells": [
  {
   "cell_type": "code",
   "execution_count": 55,
   "metadata": {},
   "outputs": [
    {
     "name": "stdout",
     "output_type": "stream",
     "text": [
      "Requirement already satisfied: numpy in /home/ysthakur/.virtualenvs/praw-playground/lib/python3.10/site-packages (1.26.4)\n",
      "Requirement already satisfied: seaborn in /home/ysthakur/.virtualenvs/praw-playground/lib/python3.10/site-packages (0.13.2)\n",
      "Requirement already satisfied: pandas>=1.2 in /home/ysthakur/.virtualenvs/praw-playground/lib/python3.10/site-packages (from seaborn) (2.2.1)\n",
      "Requirement already satisfied: matplotlib!=3.6.1,>=3.4 in /home/ysthakur/.virtualenvs/praw-playground/lib/python3.10/site-packages (from seaborn) (3.8.3)\n",
      "Requirement already satisfied: contourpy>=1.0.1 in /home/ysthakur/.virtualenvs/praw-playground/lib/python3.10/site-packages (from matplotlib!=3.6.1,>=3.4->seaborn) (1.2.0)\n",
      "Requirement already satisfied: cycler>=0.10 in /home/ysthakur/.virtualenvs/praw-playground/lib/python3.10/site-packages (from matplotlib!=3.6.1,>=3.4->seaborn) (0.12.1)\n",
      "Requirement already satisfied: fonttools>=4.22.0 in /home/ysthakur/.virtualenvs/praw-playground/lib/python3.10/site-packages (from matplotlib!=3.6.1,>=3.4->seaborn) (4.50.0)\n",
      "Requirement already satisfied: kiwisolver>=1.3.1 in /home/ysthakur/.virtualenvs/praw-playground/lib/python3.10/site-packages (from matplotlib!=3.6.1,>=3.4->seaborn) (1.4.5)\n",
      "Requirement already satisfied: packaging>=20.0 in /home/ysthakur/.virtualenvs/praw-playground/lib/python3.10/site-packages (from matplotlib!=3.6.1,>=3.4->seaborn) (23.2)\n",
      "Requirement already satisfied: pillow>=8 in /home/ysthakur/.virtualenvs/praw-playground/lib/python3.10/site-packages (from matplotlib!=3.6.1,>=3.4->seaborn) (10.3.0)\n",
      "Requirement already satisfied: pyparsing>=2.3.1 in /home/ysthakur/.virtualenvs/praw-playground/lib/python3.10/site-packages (from matplotlib!=3.6.1,>=3.4->seaborn) (3.1.2)\n",
      "Requirement already satisfied: python-dateutil>=2.7 in /home/ysthakur/.virtualenvs/praw-playground/lib/python3.10/site-packages (from matplotlib!=3.6.1,>=3.4->seaborn) (2.8.2)\n",
      "Requirement already satisfied: pytz>=2020.1 in /home/ysthakur/.virtualenvs/praw-playground/lib/python3.10/site-packages (from pandas>=1.2->seaborn) (2024.1)\n",
      "Requirement already satisfied: tzdata>=2022.7 in /home/ysthakur/.virtualenvs/praw-playground/lib/python3.10/site-packages (from pandas>=1.2->seaborn) (2024.1)\n",
      "Requirement already satisfied: six>=1.5 in /home/ysthakur/.virtualenvs/praw-playground/lib/python3.10/site-packages (from python-dateutil>=2.7->matplotlib!=3.6.1,>=3.4->seaborn) (1.16.0)\n",
      "\n",
      "\u001b[1m[\u001b[0m\u001b[34;49mnotice\u001b[0m\u001b[1;39;49m]\u001b[0m\u001b[39;49m A new release of pip is available: \u001b[0m\u001b[31;49m23.3.2\u001b[0m\u001b[39;49m -> \u001b[0m\u001b[32;49m24.0\u001b[0m\n",
      "\u001b[1m[\u001b[0m\u001b[34;49mnotice\u001b[0m\u001b[1;39;49m]\u001b[0m\u001b[39;49m To update, run: \u001b[0m\u001b[32;49mpip install --upgrade pip\u001b[0m\n"
     ]
    }
   ],
   "source": [
    "!pip install numpy seaborn"
   ]
  },
  {
   "cell_type": "code",
   "execution_count": 8,
   "metadata": {},
   "outputs": [],
   "source": [
    "import pandas as pd\n",
    "import seaborn as sns\n",
    "from matplotlib import pyplot as plt\n",
    "import datetime\n",
    "\n",
    "sns.set_theme()\n",
    "\n",
    "yash_ip = \"10.104.168.213\" # I (Yash) logged in\n",
    "\n",
    "START_DATE = datetime.datetime(2024, 4, 24)\n",
    "\n",
    "TIME_COL = \"Time\"\n",
    "IP_COL = \"IP\"\n",
    "DATE_COL = \"Date\""
   ]
  },
  {
   "cell_type": "markdown",
   "metadata": {},
   "source": [
    "# SSH stuff"
   ]
  },
  {
   "cell_type": "code",
   "execution_count": 9,
   "metadata": {},
   "outputs": [],
   "source": [
    "def filter_date(df: pd.DataFrame):\n",
    "    return df[df[TIME_COL].map(lambda dt: START_DATE < dt)]\n",
    "\n",
    "\n",
    "def setup_df(df: pd.DataFrame):\n",
    "    # Remove the rows where I logged in\n",
    "\n",
    "    # Sort by time\n",
    "    df = df[df[IP_COL] != yash_ip]\n",
    "    df = df.sort_values(by=TIME_COL)\n",
    "    df = df.reset_index(drop=True)\n",
    "\n",
    "    # Add Date column\n",
    "    df = df.copy()\n",
    "    df[DATE_COL] = df[TIME_COL].map(lambda dt: dt.strftime(\"%m/%d\"))\n",
    "\n",
    "    return df"
   ]
  },
  {
   "cell_type": "code",
   "execution_count": 10,
   "metadata": {},
   "outputs": [
    {
     "data": {
      "text/html": [
       "<div>\n",
       "<style scoped>\n",
       "    .dataframe tbody tr th:only-of-type {\n",
       "        vertical-align: middle;\n",
       "    }\n",
       "\n",
       "    .dataframe tbody tr th {\n",
       "        vertical-align: top;\n",
       "    }\n",
       "\n",
       "    .dataframe thead th {\n",
       "        text-align: right;\n",
       "    }\n",
       "</style>\n",
       "<table border=\"1\" class=\"dataframe\">\n",
       "  <thead>\n",
       "    <tr style=\"text-align: right;\">\n",
       "      <th></th>\n",
       "      <th>Time</th>\n",
       "      <th>IP</th>\n",
       "      <th>Session</th>\n",
       "      <th>Date</th>\n",
       "    </tr>\n",
       "  </thead>\n",
       "  <tbody>\n",
       "    <tr>\n",
       "      <th>0</th>\n",
       "      <td>2024-04-24 00:12:57.828</td>\n",
       "      <td>125.124.122.120</td>\n",
       "      <td>ee942600-01f0-11ef-a140-e5996c74a2ad</td>\n",
       "      <td>04/24</td>\n",
       "    </tr>\n",
       "    <tr>\n",
       "      <th>1</th>\n",
       "      <td>2024-04-24 02:02:01.517</td>\n",
       "      <td>212.70.149.150</td>\n",
       "      <td>2aec4ec0-0200-11ef-a140-e5996c74a2ad</td>\n",
       "      <td>04/24</td>\n",
       "    </tr>\n",
       "    <tr>\n",
       "      <th>2</th>\n",
       "      <td>2024-04-24 04:03:40.353</td>\n",
       "      <td>183.81.169.238</td>\n",
       "      <td>295dfde0-0211-11ef-9702-f596bcc45846</td>\n",
       "      <td>04/24</td>\n",
       "    </tr>\n",
       "    <tr>\n",
       "      <th>3</th>\n",
       "      <td>2024-04-24 05:57:31.176</td>\n",
       "      <td>179.43.180.108</td>\n",
       "      <td>10db2b70-0221-11ef-9702-f596bcc45846</td>\n",
       "      <td>04/24</td>\n",
       "    </tr>\n",
       "    <tr>\n",
       "      <th>4</th>\n",
       "      <td>2024-04-24 06:23:56.528</td>\n",
       "      <td>183.81.169.238</td>\n",
       "      <td>c1cc3ac0-0224-11ef-9702-f596bcc45846</td>\n",
       "      <td>04/24</td>\n",
       "    </tr>\n",
       "    <tr>\n",
       "      <th>...</th>\n",
       "      <td>...</td>\n",
       "      <td>...</td>\n",
       "      <td>...</td>\n",
       "      <td>...</td>\n",
       "    </tr>\n",
       "    <tr>\n",
       "      <th>75</th>\n",
       "      <td>2024-04-30 14:18:13.680</td>\n",
       "      <td>161.35.185.20</td>\n",
       "      <td>020fd4e0-071e-11ef-abf8-05d8cbeee375</td>\n",
       "      <td>04/30</td>\n",
       "    </tr>\n",
       "    <tr>\n",
       "      <th>76</th>\n",
       "      <td>2024-04-30 14:22:44.881</td>\n",
       "      <td>161.35.185.20</td>\n",
       "      <td>a3b5f900-071e-11ef-abf8-05d8cbeee375</td>\n",
       "      <td>04/30</td>\n",
       "    </tr>\n",
       "    <tr>\n",
       "      <th>77</th>\n",
       "      <td>2024-04-30 14:27:17.447</td>\n",
       "      <td>161.35.185.20</td>\n",
       "      <td>462c3e60-071f-11ef-abf8-05d8cbeee375</td>\n",
       "      <td>04/30</td>\n",
       "    </tr>\n",
       "    <tr>\n",
       "      <th>78</th>\n",
       "      <td>2024-04-30 14:31:51.941</td>\n",
       "      <td>161.35.185.20</td>\n",
       "      <td>e9c8b440-071f-11ef-abf8-05d8cbeee375</td>\n",
       "      <td>04/30</td>\n",
       "    </tr>\n",
       "    <tr>\n",
       "      <th>79</th>\n",
       "      <td>2024-04-30 14:36:22.741</td>\n",
       "      <td>161.35.185.20</td>\n",
       "      <td>8b31a850-0720-11ef-abf8-05d8cbeee375</td>\n",
       "      <td>04/30</td>\n",
       "    </tr>\n",
       "  </tbody>\n",
       "</table>\n",
       "<p>80 rows × 4 columns</p>\n",
       "</div>"
      ],
      "text/plain": [
       "                      Time               IP  \\\n",
       "0  2024-04-24 00:12:57.828  125.124.122.120   \n",
       "1  2024-04-24 02:02:01.517   212.70.149.150   \n",
       "2  2024-04-24 04:03:40.353   183.81.169.238   \n",
       "3  2024-04-24 05:57:31.176   179.43.180.108   \n",
       "4  2024-04-24 06:23:56.528   183.81.169.238   \n",
       "..                     ...              ...   \n",
       "75 2024-04-30 14:18:13.680    161.35.185.20   \n",
       "76 2024-04-30 14:22:44.881    161.35.185.20   \n",
       "77 2024-04-30 14:27:17.447    161.35.185.20   \n",
       "78 2024-04-30 14:31:51.941    161.35.185.20   \n",
       "79 2024-04-30 14:36:22.741    161.35.185.20   \n",
       "\n",
       "                                 Session   Date  \n",
       "0   ee942600-01f0-11ef-a140-e5996c74a2ad  04/24  \n",
       "1   2aec4ec0-0200-11ef-a140-e5996c74a2ad  04/24  \n",
       "2   295dfde0-0211-11ef-9702-f596bcc45846  04/24  \n",
       "3   10db2b70-0221-11ef-9702-f596bcc45846  04/24  \n",
       "4   c1cc3ac0-0224-11ef-9702-f596bcc45846  04/24  \n",
       "..                                   ...    ...  \n",
       "75  020fd4e0-071e-11ef-abf8-05d8cbeee375  04/30  \n",
       "76  a3b5f900-071e-11ef-abf8-05d8cbeee375  04/30  \n",
       "77  462c3e60-071f-11ef-abf8-05d8cbeee375  04/30  \n",
       "78  e9c8b440-071f-11ef-abf8-05d8cbeee375  04/30  \n",
       "79  8b31a850-0720-11ef-abf8-05d8cbeee375  04/30  \n",
       "\n",
       "[80 rows x 4 columns]"
      ]
     },
     "execution_count": 10,
     "metadata": {},
     "output_type": "execute_result"
    }
   ],
   "source": [
    "logins = pd.read_csv(\n",
    "    \"data/ssh/logins.txt\", sep=\";\", names=[TIME_COL, IP_COL, \"Session\"], parse_dates=[\"Time\"]\n",
    ")\n",
    "logins = filter_date(logins)\n",
    "logins = setup_df(logins)\n",
    "logins"
   ]
  },
  {
   "cell_type": "code",
   "execution_count": 11,
   "metadata": {},
   "outputs": [
    {
     "data": {
      "text/html": [
       "<div>\n",
       "<style scoped>\n",
       "    .dataframe tbody tr th:only-of-type {\n",
       "        vertical-align: middle;\n",
       "    }\n",
       "\n",
       "    .dataframe tbody tr th {\n",
       "        vertical-align: top;\n",
       "    }\n",
       "\n",
       "    .dataframe thead th {\n",
       "        text-align: right;\n",
       "    }\n",
       "</style>\n",
       "<table border=\"1\" class=\"dataframe\">\n",
       "  <thead>\n",
       "    <tr style=\"text-align: right;\">\n",
       "      <th></th>\n",
       "      <th>Time</th>\n",
       "      <th>IP</th>\n",
       "      <th>Name</th>\n",
       "      <th>Password</th>\n",
       "      <th>Date</th>\n",
       "    </tr>\n",
       "  </thead>\n",
       "  <tbody>\n",
       "    <tr>\n",
       "      <th>0</th>\n",
       "      <td>2024-04-24 00:00:24.348</td>\n",
       "      <td>182.75.197.174</td>\n",
       "      <td>root</td>\n",
       "      <td>Admin</td>\n",
       "      <td>04/24</td>\n",
       "    </tr>\n",
       "    <tr>\n",
       "      <th>1</th>\n",
       "      <td>2024-04-24 00:01:47.933</td>\n",
       "      <td>223.247.96.150</td>\n",
       "      <td>config</td>\n",
       "      <td>qwerty123</td>\n",
       "      <td>04/24</td>\n",
       "    </tr>\n",
       "    <tr>\n",
       "      <th>2</th>\n",
       "      <td>2024-04-24 00:01:57.310</td>\n",
       "      <td>65.20.205.18</td>\n",
       "      <td>admin</td>\n",
       "      <td>99999</td>\n",
       "      <td>04/24</td>\n",
       "    </tr>\n",
       "    <tr>\n",
       "      <th>3</th>\n",
       "      <td>2024-04-24 00:12:27.911</td>\n",
       "      <td>125.124.122.120</td>\n",
       "      <td>root</td>\n",
       "      <td>------fuck------</td>\n",
       "      <td>04/24</td>\n",
       "    </tr>\n",
       "    <tr>\n",
       "      <th>4</th>\n",
       "      <td>2024-04-24 00:12:31.124</td>\n",
       "      <td>125.124.122.120</td>\n",
       "      <td>root</td>\n",
       "      <td>root</td>\n",
       "      <td>04/24</td>\n",
       "    </tr>\n",
       "    <tr>\n",
       "      <th>...</th>\n",
       "      <td>...</td>\n",
       "      <td>...</td>\n",
       "      <td>...</td>\n",
       "      <td>...</td>\n",
       "      <td>...</td>\n",
       "    </tr>\n",
       "    <tr>\n",
       "      <th>21057</th>\n",
       "      <td>2024-04-30 17:11:08.727</td>\n",
       "      <td>161.35.185.20</td>\n",
       "      <td>fahdp</td>\n",
       "      <td>fahdp</td>\n",
       "      <td>04/30</td>\n",
       "    </tr>\n",
       "    <tr>\n",
       "      <th>21058</th>\n",
       "      <td>2024-04-30 17:14:13.324</td>\n",
       "      <td>159.89.24.153</td>\n",
       "      <td>asrahma1</td>\n",
       "      <td>asrahma1</td>\n",
       "      <td>04/30</td>\n",
       "    </tr>\n",
       "    <tr>\n",
       "      <th>21059</th>\n",
       "      <td>2024-04-30 17:14:18.022</td>\n",
       "      <td>170.64.188.83</td>\n",
       "      <td>dev</td>\n",
       "      <td>dev</td>\n",
       "      <td>04/30</td>\n",
       "    </tr>\n",
       "    <tr>\n",
       "      <th>21060</th>\n",
       "      <td>2024-04-30 17:15:44.574</td>\n",
       "      <td>161.35.185.20</td>\n",
       "      <td>fanglanc</td>\n",
       "      <td>fanglanc</td>\n",
       "      <td>04/30</td>\n",
       "    </tr>\n",
       "    <tr>\n",
       "      <th>21061</th>\n",
       "      <td>2024-04-30 17:15:52.060</td>\n",
       "      <td>193.201.9.156</td>\n",
       "      <td>test</td>\n",
       "      <td>test</td>\n",
       "      <td>04/30</td>\n",
       "    </tr>\n",
       "  </tbody>\n",
       "</table>\n",
       "<p>21062 rows × 5 columns</p>\n",
       "</div>"
      ],
      "text/plain": [
       "                         Time               IP      Name          Password  \\\n",
       "0     2024-04-24 00:00:24.348   182.75.197.174      root             Admin   \n",
       "1     2024-04-24 00:01:47.933   223.247.96.150    config         qwerty123   \n",
       "2     2024-04-24 00:01:57.310     65.20.205.18     admin             99999   \n",
       "3     2024-04-24 00:12:27.911  125.124.122.120      root  ------fuck------   \n",
       "4     2024-04-24 00:12:31.124  125.124.122.120      root              root   \n",
       "...                       ...              ...       ...               ...   \n",
       "21057 2024-04-30 17:11:08.727    161.35.185.20     fahdp             fahdp   \n",
       "21058 2024-04-30 17:14:13.324    159.89.24.153  asrahma1          asrahma1   \n",
       "21059 2024-04-30 17:14:18.022    170.64.188.83       dev               dev   \n",
       "21060 2024-04-30 17:15:44.574    161.35.185.20  fanglanc          fanglanc   \n",
       "21061 2024-04-30 17:15:52.060    193.201.9.156      test              test   \n",
       "\n",
       "        Date  \n",
       "0      04/24  \n",
       "1      04/24  \n",
       "2      04/24  \n",
       "3      04/24  \n",
       "4      04/24  \n",
       "...      ...  \n",
       "21057  04/30  \n",
       "21058  04/30  \n",
       "21059  04/30  \n",
       "21060  04/30  \n",
       "21061  04/30  \n",
       "\n",
       "[21062 rows x 5 columns]"
      ]
     },
     "execution_count": 11,
     "metadata": {},
     "output_type": "execute_result"
    }
   ],
   "source": [
    "login_attempts = pd.read_csv(\n",
    "    \"data/ssh/login_attempts.txt\",\n",
    "    sep=\";\",\n",
    "    names=[TIME_COL, IP_COL, \"method\", \"Name\", \"Password\"],\n",
    "    parse_dates=[\"Time\"],\n",
    "    # MITM doesn't wrap passwords with semicolons in them in quotes\n",
    "    on_bad_lines=lambda lines: (\n",
    "        lines[:-2] + [\";\".join(lines[-2:])] if len(lines) == 6 else lines\n",
    "    ),\n",
    "    engine=\"python\",\n",
    ")\n",
    "\n",
    "login_attempts.drop(\"method\", axis=1, inplace=True)\n",
    "\n",
    "login_attempts[\"Name\"] = login_attempts[\"Name\"].apply(str)\n",
    "login_attempts[\"Password\"] = login_attempts[\"Password\"].apply(str)\n",
    "\n",
    "login_attempts = filter_date(login_attempts)\n",
    "login_attempts = setup_df(login_attempts)\n",
    "\n",
    "login_attempts"
   ]
  },
  {
   "cell_type": "code",
   "execution_count": 12,
   "metadata": {},
   "outputs": [
    {
     "data": {
      "text/plain": [
       "IP\n",
       "192.3.12.163      9501\n",
       "180.97.220.14     1395\n",
       "183.81.169.238     821\n",
       "68.183.155.250     718\n",
       "179.43.180.108     669\n",
       "146.190.99.162     622\n",
       "158.69.39.171      551\n",
       "170.64.166.132     476\n",
       "170.64.156.125     465\n",
       "134.209.0.27       412\n",
       "116.55.248.235     411\n",
       "138.197.147.2      325\n",
       "92.118.39.245      319\n",
       "180.232.75.76      294\n",
       "170.64.233.86      283\n",
       "Name: count, dtype: int64"
      ]
     },
     "execution_count": 12,
     "metadata": {},
     "output_type": "execute_result"
    }
   ],
   "source": [
    "login_attempts[\"IP\"].value_counts().nlargest(15)"
   ]
  },
  {
   "cell_type": "code",
   "execution_count": 13,
   "metadata": {},
   "outputs": [
    {
     "data": {
      "text/plain": [
       "Name\n",
       "root        13703\n",
       "admin         945\n",
       "user          472\n",
       "ubuntu        354\n",
       "debian        297\n",
       "oracle        193\n",
       "test          181\n",
       "support       106\n",
       "ftpuser        94\n",
       "Antminer       85\n",
       "postgres       84\n",
       "vr             72\n",
       "guest          68\n",
       "hadoop         66\n",
       "test2          60\n",
       "Name: count, dtype: int64"
      ]
     },
     "execution_count": 13,
     "metadata": {},
     "output_type": "execute_result"
    }
   ],
   "source": [
    "login_attempts[\"Name\"].value_counts().nlargest(15)"
   ]
  },
  {
   "cell_type": "code",
   "execution_count": 14,
   "metadata": {},
   "outputs": [
    {
     "data": {
      "text/plain": [
       "Password\n",
       "123456      580\n",
       "root        291\n",
       "admin       281\n",
       "123         265\n",
       "1234        208\n",
       "1           176\n",
       "test        163\n",
       "password    157\n",
       "12345       151\n",
       "12345678    142\n",
       "ubuntu      116\n",
       "0           115\n",
       "eve          95\n",
       "guest        87\n",
       "123123       84\n",
       "Name: count, dtype: int64"
      ]
     },
     "execution_count": 14,
     "metadata": {},
     "output_type": "execute_result"
    }
   ],
   "source": [
    "login_attempts[\"Password\"].value_counts().nlargest(15)"
   ]
  },
  {
   "cell_type": "code",
   "execution_count": 15,
   "metadata": {},
   "outputs": [
    {
     "data": {
      "text/plain": [
       "root / root        134\n",
       "root / admin       116\n",
       "root / 123456      107\n",
       "root / 123         102\n",
       "root / 1           101\n",
       "root / 0            99\n",
       "root / eve          94\n",
       "root / 123123       80\n",
       "admin / admin1      80\n",
       "root / 12345        70\n",
       "root / password     69\n",
       "root / 1234         69\n",
       "root / test         67\n",
       "root / 12345678     65\n",
       "root / 111111       62\n",
       "Name: count, dtype: int64"
      ]
     },
     "execution_count": 15,
     "metadata": {},
     "output_type": "execute_result"
    }
   ],
   "source": [
    "(login_attempts[\"Name\"].map(lambda n: n + \" / \") + login_attempts[\"Password\"]).value_counts().nlargest(15)"
   ]
  },
  {
   "cell_type": "code",
   "execution_count": 16,
   "metadata": {},
   "outputs": [
    {
     "data": {
      "image/png": "[encoded data removed]",
      "text/plain": [
       "<Figure size 640x480 with 1 Axes>"
      ]
     },
     "metadata": {},
     "output_type": "display_data"
    }
   ],
   "source": [
    "# Number of login attempts each day (not uniqued by IP)\n",
    "by_day = login_attempts.groupby(\"Date\").apply(lambda df: df[\"IP\"].count(), include_groups=False)\n",
    "g = sns.barplot(data=by_day)\n",
    "g.set_xticks(g.get_xticks(), labels=g.get_xticklabels(), rotation=30);"
   ]
  },
  {
   "cell_type": "code",
   "execution_count": 17,
   "metadata": {},
   "outputs": [
    {
     "data": {
      "text/plain": [
       "<Axes: xlabel='Date'>"
      ]
     },
     "execution_count": 17,
     "metadata": {},
     "output_type": "execute_result"
    },
    {
     "data": {
      "image/png": "[encoded data removed]",
      "text/plain": [
       "<Figure size 640x480 with 1 Axes>"
      ]
     },
     "metadata": {},
     "output_type": "display_data"
    }
   ],
   "source": [
    "# Number of logins each day (not uniqued by IP)\n",
    "by_day = logins.groupby(\"Date\").apply(lambda df: df[\"IP\"].count(), include_groups=False)\n",
    "sns.barplot(data=by_day)"
   ]
  },
  {
   "cell_type": "code",
   "execution_count": 18,
   "metadata": {},
   "outputs": [
    {
     "data": {
      "image/png": "[encoded data removed]",
      "text/plain": [
       "<Figure size 640x480 with 1 Axes>"
      ]
     },
     "metadata": {},
     "output_type": "display_data"
    }
   ],
   "source": [
    "# Number of login attempts each day (uniqued by IP)\n",
    "attempts_uniq_by_day = login_attempts.groupby(DATE_COL).apply(\n",
    "    lambda df: df[IP_COL].drop_duplicates().count(), include_groups=False\n",
    ")\n",
    "g = sns.barplot(data=attempts_uniq_by_day)\n",
    "g.set_xticks(g.get_xticks(), labels=g.get_xticklabels(), rotation=30);"
   ]
  },
  {
   "cell_type": "code",
   "execution_count": 19,
   "metadata": {},
   "outputs": [
    {
     "data": {
      "image/png": "[encoded data removed]",
      "text/plain": [
       "<Figure size 640x480 with 1 Axes>"
      ]
     },
     "metadata": {},
     "output_type": "display_data"
    }
   ],
   "source": [
    "# Number of logins each day (uniqued by IP)\n",
    "logins_uniq_by_day = logins.groupby(DATE_COL).apply(\n",
    "    lambda df: df[IP_COL].drop_duplicates().count(), include_groups=False\n",
    ")\n",
    "g = sns.barplot(data=logins_uniq_by_day)\n",
    "g.set_xticks(g.get_xticks(), labels=g.get_xticklabels(), rotation=30);"
   ]
  },
  {
   "cell_type": "code",
   "execution_count": 20,
   "metadata": {},
   "outputs": [
    {
     "data": {
      "text/plain": [
       "<Figure size 1200x1200 with 0 Axes>"
      ]
     },
     "metadata": {},
     "output_type": "display_data"
    },
    {
     "data": {
      "image/png": "[encoded data removed]",
      "text/plain": [
       "<Figure size 617.25x500 with 1 Axes>"
      ]
     },
     "metadata": {},
     "output_type": "display_data"
    }
   ],
   "source": [
    "# Number of logins and login attempts each day (uniqued by IP)\n",
    "both_uniq_by_day = pd.concat(\n",
    "    [\n",
    "        pd.DataFrame(\n",
    "            {\n",
    "                \"Count\": attempts_uniq_by_day,\n",
    "                \"Type\": \"Attempt\",\n",
    "            }\n",
    "        ),\n",
    "        pd.DataFrame(\n",
    "            {\n",
    "                \"Count\": logins_uniq_by_day,\n",
    "                \"Type\": \"Login\",\n",
    "            }\n",
    "        ),\n",
    "    ]\n",
    ")\n",
    "\n",
    "plt.figure(figsize=(12, 12))\n",
    "g = sns.catplot(data=both_uniq_by_day, kind=\"bar\", x=\"Date\", y=\"Count\", hue=\"Type\")\n",
    "g.despine(left=True)\n",
    "g.legend.set_title(\"\")"
   ]
  },
  {
   "cell_type": "code",
   "execution_count": 21,
   "metadata": {},
   "outputs": [
    {
     "data": {
      "text/plain": [
       "<Axes: xlabel='Time', ylabel='count'>"
      ]
     },
     "execution_count": 21,
     "metadata": {},
     "output_type": "execute_result"
    },
    {
     "data": {
      "image/png": "[encoded data removed]",
      "text/plain": [
       "<Figure size 1300x500 with 1 Axes>"
      ]
     },
     "metadata": {},
     "output_type": "display_data"
    }
   ],
   "source": [
    "times_of_day = login_attempts[TIME_COL].apply(lambda dt: dt.hour)\n",
    "\n",
    "plt.figure(figsize=(13, 5))\n",
    "sns.barplot(data=times_of_day.value_counts())"
   ]
  },
  {
   "cell_type": "markdown",
   "metadata": {},
   "source": [
    "# Web stuff"
   ]
  },
  {
   "cell_type": "code",
   "execution_count": 61,
   "metadata": {},
   "outputs": [],
   "source": [
    "import json\n",
    "\n",
    "COUNT_COL = \"Count\"\n",
    "PATH_COL = \"Path\"\n",
    "\n",
    "def load_web_json(col_name, file, sort_by_count=True) -> pd.DataFrame:\n",
    "    obj = json.load(open(f\"data/web/{file}.json\"))\n",
    "    df = pd.DataFrame(obj.items(), columns=[col_name, COUNT_COL])\n",
    "    if sort_by_count:\n",
    "        df = df.sort_values(by=COUNT_COL, ascending=False)\n",
    "    else:\n",
    "        df = df.sort_values(by=col_name)\n",
    "    df = df.reset_index(drop=True)\n",
    "    return df"
   ]
  },
  {
   "cell_type": "code",
   "execution_count": 62,
   "metadata": {},
   "outputs": [
    {
     "data": {
      "text/html": [
       "<div>\n",
       "<style scoped>\n",
       "    .dataframe tbody tr th:only-of-type {\n",
       "        vertical-align: middle;\n",
       "    }\n",
       "\n",
       "    .dataframe tbody tr th {\n",
       "        vertical-align: top;\n",
       "    }\n",
       "\n",
       "    .dataframe thead th {\n",
       "        text-align: right;\n",
       "    }\n",
       "</style>\n",
       "<table border=\"1\" class=\"dataframe\">\n",
       "  <thead>\n",
       "    <tr style=\"text-align: right;\">\n",
       "      <th></th>\n",
       "      <th>IP</th>\n",
       "      <th>Count</th>\n",
       "    </tr>\n",
       "  </thead>\n",
       "  <tbody>\n",
       "    <tr>\n",
       "      <th>0</th>\n",
       "      <td>165.154.118.169</td>\n",
       "      <td>4</td>\n",
       "    </tr>\n",
       "    <tr>\n",
       "      <th>1</th>\n",
       "      <td>159.203.181.211</td>\n",
       "      <td>4</td>\n",
       "    </tr>\n",
       "    <tr>\n",
       "      <th>2</th>\n",
       "      <td>206.189.192.104</td>\n",
       "      <td>4</td>\n",
       "    </tr>\n",
       "    <tr>\n",
       "      <th>3</th>\n",
       "      <td>152.32.159.177</td>\n",
       "      <td>4</td>\n",
       "    </tr>\n",
       "    <tr>\n",
       "      <th>4</th>\n",
       "      <td>24.144.100.116</td>\n",
       "      <td>3</td>\n",
       "    </tr>\n",
       "    <tr>\n",
       "      <th>...</th>\n",
       "      <td>...</td>\n",
       "      <td>...</td>\n",
       "    </tr>\n",
       "    <tr>\n",
       "      <th>71</th>\n",
       "      <td>185.242.226.21</td>\n",
       "      <td>1</td>\n",
       "    </tr>\n",
       "    <tr>\n",
       "      <th>72</th>\n",
       "      <td>154.212.141.183</td>\n",
       "      <td>1</td>\n",
       "    </tr>\n",
       "    <tr>\n",
       "      <th>73</th>\n",
       "      <td>143.244.128.83</td>\n",
       "      <td>1</td>\n",
       "    </tr>\n",
       "    <tr>\n",
       "      <th>74</th>\n",
       "      <td>205.210.31.177</td>\n",
       "      <td>1</td>\n",
       "    </tr>\n",
       "    <tr>\n",
       "      <th>75</th>\n",
       "      <td>198.199.101.89</td>\n",
       "      <td>1</td>\n",
       "    </tr>\n",
       "  </tbody>\n",
       "</table>\n",
       "<p>76 rows × 2 columns</p>\n",
       "</div>"
      ],
      "text/plain": [
       "                 IP  Count\n",
       "0   165.154.118.169      4\n",
       "1   159.203.181.211      4\n",
       "2   206.189.192.104      4\n",
       "3    152.32.159.177      4\n",
       "4    24.144.100.116      3\n",
       "..              ...    ...\n",
       "71   185.242.226.21      1\n",
       "72  154.212.141.183      1\n",
       "73   143.244.128.83      1\n",
       "74   205.210.31.177      1\n",
       "75   198.199.101.89      1\n",
       "\n",
       "[76 rows x 2 columns]"
      ]
     },
     "execution_count": 62,
     "metadata": {},
     "output_type": "execute_result"
    }
   ],
   "source": [
    "ips_web = load_web_json(IP_COL, \"ips\")\n",
    "ips_web"
   ]
  },
  {
   "cell_type": "code",
   "execution_count": 63,
   "metadata": {},
   "outputs": [
    {
     "data": {
      "text/html": [
       "<div>\n",
       "<style scoped>\n",
       "    .dataframe tbody tr th:only-of-type {\n",
       "        vertical-align: middle;\n",
       "    }\n",
       "\n",
       "    .dataframe tbody tr th {\n",
       "        vertical-align: top;\n",
       "    }\n",
       "\n",
       "    .dataframe thead th {\n",
       "        text-align: right;\n",
       "    }\n",
       "</style>\n",
       "<table border=\"1\" class=\"dataframe\">\n",
       "  <thead>\n",
       "    <tr style=\"text-align: right;\">\n",
       "      <th></th>\n",
       "      <th>Path</th>\n",
       "      <th>Count</th>\n",
       "    </tr>\n",
       "  </thead>\n",
       "  <tbody>\n",
       "    <tr>\n",
       "      <th>0</th>\n",
       "      <td>/</td>\n",
       "      <td>62</td>\n",
       "    </tr>\n",
       "    <tr>\n",
       "      <th>1</th>\n",
       "      <td>/favicon.ico</td>\n",
       "      <td>19</td>\n",
       "    </tr>\n",
       "    <tr>\n",
       "      <th>2</th>\n",
       "      <td>/robots.txt</td>\n",
       "      <td>3</td>\n",
       "    </tr>\n",
       "    <tr>\n",
       "      <th>3</th>\n",
       "      <td>/v2/_catalog</td>\n",
       "      <td>3</td>\n",
       "    </tr>\n",
       "    <tr>\n",
       "      <th>4</th>\n",
       "      <td>/solr/admin/info/system</td>\n",
       "      <td>3</td>\n",
       "    </tr>\n",
       "    <tr>\n",
       "      <th>5</th>\n",
       "      <td>/cgi-bin/authLogin.cgi</td>\n",
       "      <td>3</td>\n",
       "    </tr>\n",
       "    <tr>\n",
       "      <th>6</th>\n",
       "      <td>/query</td>\n",
       "      <td>3</td>\n",
       "    </tr>\n",
       "    <tr>\n",
       "      <th>7</th>\n",
       "      <td>/solr/admin/cores</td>\n",
       "      <td>3</td>\n",
       "    </tr>\n",
       "    <tr>\n",
       "      <th>8</th>\n",
       "      <td>/api/v1/users/search</td>\n",
       "      <td>2</td>\n",
       "    </tr>\n",
       "    <tr>\n",
       "      <th>9</th>\n",
       "      <td>/sitemap.xml</td>\n",
       "      <td>2</td>\n",
       "    </tr>\n",
       "    <tr>\n",
       "      <th>10</th>\n",
       "      <td>/.DS_Store</td>\n",
       "      <td>1</td>\n",
       "    </tr>\n",
       "    <tr>\n",
       "      <th>11</th>\n",
       "      <td>/.git/config</td>\n",
       "      <td>1</td>\n",
       "    </tr>\n",
       "  </tbody>\n",
       "</table>\n",
       "</div>"
      ],
      "text/plain": [
       "                       Path  Count\n",
       "0                         /     62\n",
       "1              /favicon.ico     19\n",
       "2               /robots.txt      3\n",
       "3              /v2/_catalog      3\n",
       "4   /solr/admin/info/system      3\n",
       "5    /cgi-bin/authLogin.cgi      3\n",
       "6                    /query      3\n",
       "7         /solr/admin/cores      3\n",
       "8      /api/v1/users/search      2\n",
       "9              /sitemap.xml      2\n",
       "10               /.DS_Store      1\n",
       "11             /.git/config      1"
      ]
     },
     "execution_count": 63,
     "metadata": {},
     "output_type": "execute_result"
    }
   ],
   "source": [
    "paths_web = load_web_json(PATH_COL, \"paths\")\n",
    "paths_web"
   ]
  },
  {
   "cell_type": "code",
   "execution_count": 64,
   "metadata": {},
   "outputs": [
    {
     "data": {
      "text/html": [
       "<div>\n",
       "<style scoped>\n",
       "    .dataframe tbody tr th:only-of-type {\n",
       "        vertical-align: middle;\n",
       "    }\n",
       "\n",
       "    .dataframe tbody tr th {\n",
       "        vertical-align: top;\n",
       "    }\n",
       "\n",
       "    .dataframe thead th {\n",
       "        text-align: right;\n",
       "    }\n",
       "</style>\n",
       "<table border=\"1\" class=\"dataframe\">\n",
       "  <thead>\n",
       "    <tr style=\"text-align: right;\">\n",
       "      <th></th>\n",
       "      <th>Date</th>\n",
       "      <th>Count</th>\n",
       "    </tr>\n",
       "  </thead>\n",
       "  <tbody>\n",
       "    <tr>\n",
       "      <th>0</th>\n",
       "      <td>04/23</td>\n",
       "      <td>9</td>\n",
       "    </tr>\n",
       "    <tr>\n",
       "      <th>1</th>\n",
       "      <td>04/24</td>\n",
       "      <td>8</td>\n",
       "    </tr>\n",
       "    <tr>\n",
       "      <th>2</th>\n",
       "      <td>04/25</td>\n",
       "      <td>11</td>\n",
       "    </tr>\n",
       "    <tr>\n",
       "      <th>3</th>\n",
       "      <td>04/26</td>\n",
       "      <td>10</td>\n",
       "    </tr>\n",
       "    <tr>\n",
       "      <th>4</th>\n",
       "      <td>04/27</td>\n",
       "      <td>20</td>\n",
       "    </tr>\n",
       "    <tr>\n",
       "      <th>5</th>\n",
       "      <td>04/28</td>\n",
       "      <td>13</td>\n",
       "    </tr>\n",
       "    <tr>\n",
       "      <th>6</th>\n",
       "      <td>04/29</td>\n",
       "      <td>14</td>\n",
       "    </tr>\n",
       "    <tr>\n",
       "      <th>7</th>\n",
       "      <td>04/30</td>\n",
       "      <td>20</td>\n",
       "    </tr>\n",
       "  </tbody>\n",
       "</table>\n",
       "</div>"
      ],
      "text/plain": [
       "    Date  Count\n",
       "0  04/23      9\n",
       "1  04/24      8\n",
       "2  04/25     11\n",
       "3  04/26     10\n",
       "4  04/27     20\n",
       "5  04/28     13\n",
       "6  04/29     14\n",
       "7  04/30     20"
      ]
     },
     "execution_count": 64,
     "metadata": {},
     "output_type": "execute_result"
    }
   ],
   "source": [
    "reqs_day_web = load_web_json(\"Date\", \"requestsPerDay\", sort_by_count=False)\n",
    "reqs_day_web[\"Date\"] = reqs_day_web[\"Date\"].apply(lambda date: date.replace(\"2024-\", \"\").replace(\"-\", \"/\"))\n",
    "reqs_day_web"
   ]
  },
  {
   "cell_type": "code",
   "execution_count": 65,
   "metadata": {},
   "outputs": [
    {
     "data": {
      "text/plain": [
       "<Axes: xlabel='Hour', ylabel='Count'>"
      ]
     },
     "execution_count": 65,
     "metadata": {},
     "output_type": "execute_result"
    },
    {
     "data": {
      "image/png": "[encoded data removed]",
      "text/plain": [
       "<Figure size 1300x500 with 1 Axes>"
      ]
     },
     "metadata": {},
     "output_type": "display_data"
    }
   ],
   "source": [
    "reqs_hour_web = load_web_json(\"Hour\", \"requestsPerHour\", sort_by_count=False)\n",
    "reqs_hour_web[\"Hour\"] = reqs_hour_web[\"Hour\"].apply(int)\n",
    "\n",
    "plt.figure(figsize=(13, 5))\n",
    "sns.lineplot(data=reqs_hour_web, x=\"Hour\", y=COUNT_COL)"
   ]
  },
  {
   "cell_type": "code",
   "execution_count": 66,
   "metadata": {},
   "outputs": [
    {
     "data": {
      "text/html": [
       "<div>\n",
       "<style scoped>\n",
       "    .dataframe tbody tr th:only-of-type {\n",
       "        vertical-align: middle;\n",
       "    }\n",
       "\n",
       "    .dataframe tbody tr th {\n",
       "        vertical-align: top;\n",
       "    }\n",
       "\n",
       "    .dataframe thead th {\n",
       "        text-align: right;\n",
       "    }\n",
       "</style>\n",
       "<table border=\"1\" class=\"dataframe\">\n",
       "  <thead>\n",
       "    <tr style=\"text-align: right;\">\n",
       "      <th></th>\n",
       "      <th>Hour</th>\n",
       "      <th>Count</th>\n",
       "    </tr>\n",
       "  </thead>\n",
       "  <tbody>\n",
       "    <tr>\n",
       "      <th>0</th>\n",
       "      <td>Go-http-client/1.1</td>\n",
       "      <td>25</td>\n",
       "    </tr>\n",
       "    <tr>\n",
       "      <th>1</th>\n",
       "      <td>Expanse, a Palo Alto Networks company, searche...</td>\n",
       "      <td>15</td>\n",
       "    </tr>\n",
       "    <tr>\n",
       "      <th>2</th>\n",
       "      <td>Mozilla/5.0 (compatible; CensysInspect/1.1; +h...</td>\n",
       "      <td>8</td>\n",
       "    </tr>\n",
       "    <tr>\n",
       "      <th>3</th>\n",
       "      <td>Mozilla/5.0 zgrab/0.x</td>\n",
       "      <td>5</td>\n",
       "    </tr>\n",
       "    <tr>\n",
       "      <th>4</th>\n",
       "      <td>Mozilla/5.0 (Windows NT 10.0; Win64; x64) Appl...</td>\n",
       "      <td>5</td>\n",
       "    </tr>\n",
       "  </tbody>\n",
       "</table>\n",
       "</div>"
      ],
      "text/plain": [
       "                                                Hour  Count\n",
       "0                                 Go-http-client/1.1     25\n",
       "1  Expanse, a Palo Alto Networks company, searche...     15\n",
       "2  Mozilla/5.0 (compatible; CensysInspect/1.1; +h...      8\n",
       "3                              Mozilla/5.0 zgrab/0.x      5\n",
       "4  Mozilla/5.0 (Windows NT 10.0; Win64; x64) Appl...      5"
      ]
     },
     "execution_count": 66,
     "metadata": {},
     "output_type": "execute_result"
    }
   ],
   "source": [
    "user_agents = load_web_json(\"Hour\", \"userAgents\")\n",
    "user_agents.head()"
   ]
  }
 ],
 "metadata": {
  "kernelspec": {
   "display_name": "praw-playground",
   "language": "python",
   "name": "python3"
  },
  "language_info": {
   "codemirror_mode": {
    "name": "ipython",
    "version": 3
   },
   "file_extension": ".py",
   "mimetype": "text/x-python",
   "name": "python",
   "nbconvert_exporter": "python",
   "pygments_lexer": "ipython3",
   "version": "3.10.12"
  }
 },
 "nbformat": 4,
 "nbformat_minor": 2
}
