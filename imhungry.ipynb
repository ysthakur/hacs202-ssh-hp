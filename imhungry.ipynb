{
 "cells": [
  {
   "cell_type": "code",
   "execution_count": 55,
   "metadata": {},
   "outputs": [
    {
     "name": "stdout",
     "output_type": "stream",
     "text": [
      "Requirement already satisfied: numpy in /home/ysthakur/.virtualenvs/praw-playground/lib/python3.10/site-packages (1.26.4)\n",
      "Requirement already satisfied: seaborn in /home/ysthakur/.virtualenvs/praw-playground/lib/python3.10/site-packages (0.13.2)\n",
      "Requirement already satisfied: pandas>=1.2 in /home/ysthakur/.virtualenvs/praw-playground/lib/python3.10/site-packages (from seaborn) (2.2.1)\n",
      "Requirement already satisfied: matplotlib!=3.6.1,>=3.4 in /home/ysthakur/.virtualenvs/praw-playground/lib/python3.10/site-packages (from seaborn) (3.8.3)\n",
      "Requirement already satisfied: contourpy>=1.0.1 in /home/ysthakur/.virtualenvs/praw-playground/lib/python3.10/site-packages (from matplotlib!=3.6.1,>=3.4->seaborn) (1.2.0)\n",
      "Requirement already satisfied: cycler>=0.10 in /home/ysthakur/.virtualenvs/praw-playground/lib/python3.10/site-packages (from matplotlib!=3.6.1,>=3.4->seaborn) (0.12.1)\n",
      "Requirement already satisfied: fonttools>=4.22.0 in /home/ysthakur/.virtualenvs/praw-playground/lib/python3.10/site-packages (from matplotlib!=3.6.1,>=3.4->seaborn) (4.50.0)\n",
      "Requirement already satisfied: kiwisolver>=1.3.1 in /home/ysthakur/.virtualenvs/praw-playground/lib/python3.10/site-packages (from matplotlib!=3.6.1,>=3.4->seaborn) (1.4.5)\n",
      "Requirement already satisfied: packaging>=20.0 in /home/ysthakur/.virtualenvs/praw-playground/lib/python3.10/site-packages (from matplotlib!=3.6.1,>=3.4->seaborn) (23.2)\n",
      "Requirement already satisfied: pillow>=8 in /home/ysthakur/.virtualenvs/praw-playground/lib/python3.10/site-packages (from matplotlib!=3.6.1,>=3.4->seaborn) (10.3.0)\n",
      "Requirement already satisfied: pyparsing>=2.3.1 in /home/ysthakur/.virtualenvs/praw-playground/lib/python3.10/site-packages (from matplotlib!=3.6.1,>=3.4->seaborn) (3.1.2)\n",
      "Requirement already satisfied: python-dateutil>=2.7 in /home/ysthakur/.virtualenvs/praw-playground/lib/python3.10/site-packages (from matplotlib!=3.6.1,>=3.4->seaborn) (2.8.2)\n",
      "Requirement already satisfied: pytz>=2020.1 in /home/ysthakur/.virtualenvs/praw-playground/lib/python3.10/site-packages (from pandas>=1.2->seaborn) (2024.1)\n",
      "Requirement already satisfied: tzdata>=2022.7 in /home/ysthakur/.virtualenvs/praw-playground/lib/python3.10/site-packages (from pandas>=1.2->seaborn) (2024.1)\n",
      "Requirement already satisfied: six>=1.5 in /home/ysthakur/.virtualenvs/praw-playground/lib/python3.10/site-packages (from python-dateutil>=2.7->matplotlib!=3.6.1,>=3.4->seaborn) (1.16.0)\n",
      "\n",
      "\u001b[1m[\u001b[0m\u001b[34;49mnotice\u001b[0m\u001b[1;39;49m]\u001b[0m\u001b[39;49m A new release of pip is available: \u001b[0m\u001b[31;49m23.3.2\u001b[0m\u001b[39;49m -> \u001b[0m\u001b[32;49m24.0\u001b[0m\n",
      "\u001b[1m[\u001b[0m\u001b[34;49mnotice\u001b[0m\u001b[1;39;49m]\u001b[0m\u001b[39;49m To update, run: \u001b[0m\u001b[32;49mpip install --upgrade pip\u001b[0m\n"
     ]
    }
   ],
   "source": [
    "!pip install numpy seaborn"
   ]
  },
  {
   "cell_type": "code",
   "execution_count": 38,
   "metadata": {},
   "outputs": [],
   "source": [
    "import pandas as pd\n",
    "import seaborn as sns\n",
    "from matplotlib import pyplot as plt\n",
    "import datetime\n",
    "\n",
    "sns.set_theme()\n",
    "\n",
    "yash_ip = \"10.104.168.213\" # I (Yash) logged in\n",
    "\n",
    "START_DATE = datetime.datetime(2024, 4, 23)\n",
    "\n",
    "TIME_COL = \"Time\"\n",
    "IP_COL = \"IP\"\n",
    "DATE_COL = \"Date\""
   ]
  },
  {
   "cell_type": "code",
   "execution_count": 43,
   "metadata": {},
   "outputs": [],
   "source": [
    "def filter_date(df: pd.DataFrame):\n",
    "    return df[df[TIME_COL].map(lambda dt: START_DATE < dt)]\n",
    "\n",
    "\n",
    "def setup_df(df: pd.DataFrame):\n",
    "    # Remove the rows where I logged in\n",
    "\n",
    "    # Sort by time\n",
    "    df = df[df[IP_COL] != yash_ip]\n",
    "    df = df.sort_values(by=TIME_COL)\n",
    "    df = df.reset_index(drop=True)\n",
    "\n",
    "    # Add Date column\n",
    "    df = df.copy()\n",
    "    df[DATE_COL] = df[TIME_COL].map(lambda dt: dt.strftime(\"%m/%d\"))\n",
    "\n",
    "    return df"
   ]
  },
  {
   "cell_type": "code",
   "execution_count": 44,
   "metadata": {},
   "outputs": [
    {
     "data": {
      "text/html": [
       "<div>\n",
       "<style scoped>\n",
       "    .dataframe tbody tr th:only-of-type {\n",
       "        vertical-align: middle;\n",
       "    }\n",
       "\n",
       "    .dataframe tbody tr th {\n",
       "        vertical-align: top;\n",
       "    }\n",
       "\n",
       "    .dataframe thead th {\n",
       "        text-align: right;\n",
       "    }\n",
       "</style>\n",
       "<table border=\"1\" class=\"dataframe\">\n",
       "  <thead>\n",
       "    <tr style=\"text-align: right;\">\n",
       "      <th></th>\n",
       "      <th>Time</th>\n",
       "      <th>IP</th>\n",
       "      <th>Session</th>\n",
       "      <th>Date</th>\n",
       "    </tr>\n",
       "  </thead>\n",
       "  <tbody>\n",
       "    <tr>\n",
       "      <th>0</th>\n",
       "      <td>2024-04-23 00:57:18.914</td>\n",
       "      <td>179.43.180.108</td>\n",
       "      <td>f64c0cf0-012d-11ef-89d9-ef9c1dc5e411</td>\n",
       "      <td>04/23</td>\n",
       "    </tr>\n",
       "    <tr>\n",
       "      <th>1</th>\n",
       "      <td>2024-04-23 01:40:00.551</td>\n",
       "      <td>183.81.169.238</td>\n",
       "      <td>ed272460-0133-11ef-89d9-ef9c1dc5e411</td>\n",
       "      <td>04/23</td>\n",
       "    </tr>\n",
       "    <tr>\n",
       "      <th>2</th>\n",
       "      <td>2024-04-23 02:09:06.618</td>\n",
       "      <td>42.203.111.50</td>\n",
       "      <td>fde3d290-0137-11ef-89d9-ef9c1dc5e411</td>\n",
       "      <td>04/23</td>\n",
       "    </tr>\n",
       "    <tr>\n",
       "      <th>3</th>\n",
       "      <td>2024-04-23 03:12:19.503</td>\n",
       "      <td>183.81.169.238</td>\n",
       "      <td>d2a024e0-0140-11ef-89d9-ef9c1dc5e411</td>\n",
       "      <td>04/23</td>\n",
       "    </tr>\n",
       "    <tr>\n",
       "      <th>4</th>\n",
       "      <td>2024-04-23 05:28:38.390</td>\n",
       "      <td>170.64.214.38</td>\n",
       "      <td>dd9d4680-0153-11ef-8e48-bbd0010f6974</td>\n",
       "      <td>04/23</td>\n",
       "    </tr>\n",
       "    <tr>\n",
       "      <th>...</th>\n",
       "      <td>...</td>\n",
       "      <td>...</td>\n",
       "      <td>...</td>\n",
       "      <td>...</td>\n",
       "    </tr>\n",
       "    <tr>\n",
       "      <th>92</th>\n",
       "      <td>2024-04-30 14:18:13.680</td>\n",
       "      <td>161.35.185.20</td>\n",
       "      <td>020fd4e0-071e-11ef-abf8-05d8cbeee375</td>\n",
       "      <td>04/30</td>\n",
       "    </tr>\n",
       "    <tr>\n",
       "      <th>93</th>\n",
       "      <td>2024-04-30 14:22:44.881</td>\n",
       "      <td>161.35.185.20</td>\n",
       "      <td>a3b5f900-071e-11ef-abf8-05d8cbeee375</td>\n",
       "      <td>04/30</td>\n",
       "    </tr>\n",
       "    <tr>\n",
       "      <th>94</th>\n",
       "      <td>2024-04-30 14:27:17.447</td>\n",
       "      <td>161.35.185.20</td>\n",
       "      <td>462c3e60-071f-11ef-abf8-05d8cbeee375</td>\n",
       "      <td>04/30</td>\n",
       "    </tr>\n",
       "    <tr>\n",
       "      <th>95</th>\n",
       "      <td>2024-04-30 14:31:51.941</td>\n",
       "      <td>161.35.185.20</td>\n",
       "      <td>e9c8b440-071f-11ef-abf8-05d8cbeee375</td>\n",
       "      <td>04/30</td>\n",
       "    </tr>\n",
       "    <tr>\n",
       "      <th>96</th>\n",
       "      <td>2024-04-30 14:36:22.741</td>\n",
       "      <td>161.35.185.20</td>\n",
       "      <td>8b31a850-0720-11ef-abf8-05d8cbeee375</td>\n",
       "      <td>04/30</td>\n",
       "    </tr>\n",
       "  </tbody>\n",
       "</table>\n",
       "<p>97 rows × 4 columns</p>\n",
       "</div>"
      ],
      "text/plain": [
       "                      Time              IP  \\\n",
       "0  2024-04-23 00:57:18.914  179.43.180.108   \n",
       "1  2024-04-23 01:40:00.551  183.81.169.238   \n",
       "2  2024-04-23 02:09:06.618   42.203.111.50   \n",
       "3  2024-04-23 03:12:19.503  183.81.169.238   \n",
       "4  2024-04-23 05:28:38.390   170.64.214.38   \n",
       "..                     ...             ...   \n",
       "92 2024-04-30 14:18:13.680   161.35.185.20   \n",
       "93 2024-04-30 14:22:44.881   161.35.185.20   \n",
       "94 2024-04-30 14:27:17.447   161.35.185.20   \n",
       "95 2024-04-30 14:31:51.941   161.35.185.20   \n",
       "96 2024-04-30 14:36:22.741   161.35.185.20   \n",
       "\n",
       "                                 Session   Date  \n",
       "0   f64c0cf0-012d-11ef-89d9-ef9c1dc5e411  04/23  \n",
       "1   ed272460-0133-11ef-89d9-ef9c1dc5e411  04/23  \n",
       "2   fde3d290-0137-11ef-89d9-ef9c1dc5e411  04/23  \n",
       "3   d2a024e0-0140-11ef-89d9-ef9c1dc5e411  04/23  \n",
       "4   dd9d4680-0153-11ef-8e48-bbd0010f6974  04/23  \n",
       "..                                   ...    ...  \n",
       "92  020fd4e0-071e-11ef-abf8-05d8cbeee375  04/30  \n",
       "93  a3b5f900-071e-11ef-abf8-05d8cbeee375  04/30  \n",
       "94  462c3e60-071f-11ef-abf8-05d8cbeee375  04/30  \n",
       "95  e9c8b440-071f-11ef-abf8-05d8cbeee375  04/30  \n",
       "96  8b31a850-0720-11ef-abf8-05d8cbeee375  04/30  \n",
       "\n",
       "[97 rows x 4 columns]"
      ]
     },
     "execution_count": 44,
     "metadata": {},
     "output_type": "execute_result"
    }
   ],
   "source": [
    "logins = pd.read_csv(\n",
    "    \"data/logins.txt\", sep=\";\", names=[TIME_COL, IP_COL, \"Session\"], parse_dates=[\"Time\"]\n",
    ")\n",
    "logins = filter_date(logins)\n",
    "logins = setup_df(logins)\n",
    "logins"
   ]
  },
  {
   "cell_type": "code",
   "execution_count": 45,
   "metadata": {},
   "outputs": [
    {
     "data": {
      "text/html": [
       "<div>\n",
       "<style scoped>\n",
       "    .dataframe tbody tr th:only-of-type {\n",
       "        vertical-align: middle;\n",
       "    }\n",
       "\n",
       "    .dataframe tbody tr th {\n",
       "        vertical-align: top;\n",
       "    }\n",
       "\n",
       "    .dataframe thead th {\n",
       "        text-align: right;\n",
       "    }\n",
       "</style>\n",
       "<table border=\"1\" class=\"dataframe\">\n",
       "  <thead>\n",
       "    <tr style=\"text-align: right;\">\n",
       "      <th></th>\n",
       "      <th>Time</th>\n",
       "      <th>IP</th>\n",
       "      <th>Name</th>\n",
       "      <th>Password</th>\n",
       "      <th>Date</th>\n",
       "    </tr>\n",
       "  </thead>\n",
       "  <tbody>\n",
       "    <tr>\n",
       "      <th>0</th>\n",
       "      <td>2024-04-23 00:01:12.087</td>\n",
       "      <td>220.179.241.68</td>\n",
       "      <td>root</td>\n",
       "      <td>power</td>\n",
       "      <td>04/23</td>\n",
       "    </tr>\n",
       "    <tr>\n",
       "      <th>1</th>\n",
       "      <td>2024-04-23 00:04:50.123</td>\n",
       "      <td>60.222.242.9</td>\n",
       "      <td>user</td>\n",
       "      <td>user2021</td>\n",
       "      <td>04/23</td>\n",
       "    </tr>\n",
       "    <tr>\n",
       "      <th>2</th>\n",
       "      <td>2024-04-23 00:11:32.759</td>\n",
       "      <td>183.81.169.238</td>\n",
       "      <td>root</td>\n",
       "      <td>0</td>\n",
       "      <td>04/23</td>\n",
       "    </tr>\n",
       "    <tr>\n",
       "      <th>3</th>\n",
       "      <td>2024-04-23 00:11:36.123</td>\n",
       "      <td>183.81.169.238</td>\n",
       "      <td>root</td>\n",
       "      <td>eve</td>\n",
       "      <td>04/23</td>\n",
       "    </tr>\n",
       "    <tr>\n",
       "      <th>4</th>\n",
       "      <td>2024-04-23 00:11:39.693</td>\n",
       "      <td>183.81.169.238</td>\n",
       "      <td>root</td>\n",
       "      <td>root</td>\n",
       "      <td>04/23</td>\n",
       "    </tr>\n",
       "    <tr>\n",
       "      <th>...</th>\n",
       "      <td>...</td>\n",
       "      <td>...</td>\n",
       "      <td>...</td>\n",
       "      <td>...</td>\n",
       "      <td>...</td>\n",
       "    </tr>\n",
       "    <tr>\n",
       "      <th>22866</th>\n",
       "      <td>2024-04-30 17:11:08.727</td>\n",
       "      <td>161.35.185.20</td>\n",
       "      <td>fahdp</td>\n",
       "      <td>fahdp</td>\n",
       "      <td>04/30</td>\n",
       "    </tr>\n",
       "    <tr>\n",
       "      <th>22867</th>\n",
       "      <td>2024-04-30 17:14:13.324</td>\n",
       "      <td>159.89.24.153</td>\n",
       "      <td>asrahma1</td>\n",
       "      <td>asrahma1</td>\n",
       "      <td>04/30</td>\n",
       "    </tr>\n",
       "    <tr>\n",
       "      <th>22868</th>\n",
       "      <td>2024-04-30 17:14:18.022</td>\n",
       "      <td>170.64.188.83</td>\n",
       "      <td>dev</td>\n",
       "      <td>dev</td>\n",
       "      <td>04/30</td>\n",
       "    </tr>\n",
       "    <tr>\n",
       "      <th>22869</th>\n",
       "      <td>2024-04-30 17:15:44.574</td>\n",
       "      <td>161.35.185.20</td>\n",
       "      <td>fanglanc</td>\n",
       "      <td>fanglanc</td>\n",
       "      <td>04/30</td>\n",
       "    </tr>\n",
       "    <tr>\n",
       "      <th>22870</th>\n",
       "      <td>2024-04-30 17:15:52.060</td>\n",
       "      <td>193.201.9.156</td>\n",
       "      <td>test</td>\n",
       "      <td>test</td>\n",
       "      <td>04/30</td>\n",
       "    </tr>\n",
       "  </tbody>\n",
       "</table>\n",
       "<p>22871 rows × 5 columns</p>\n",
       "</div>"
      ],
      "text/plain": [
       "                         Time              IP      Name  Password   Date\n",
       "0     2024-04-23 00:01:12.087  220.179.241.68      root     power  04/23\n",
       "1     2024-04-23 00:04:50.123    60.222.242.9      user  user2021  04/23\n",
       "2     2024-04-23 00:11:32.759  183.81.169.238      root         0  04/23\n",
       "3     2024-04-23 00:11:36.123  183.81.169.238      root       eve  04/23\n",
       "4     2024-04-23 00:11:39.693  183.81.169.238      root      root  04/23\n",
       "...                       ...             ...       ...       ...    ...\n",
       "22866 2024-04-30 17:11:08.727   161.35.185.20     fahdp     fahdp  04/30\n",
       "22867 2024-04-30 17:14:13.324   159.89.24.153  asrahma1  asrahma1  04/30\n",
       "22868 2024-04-30 17:14:18.022   170.64.188.83       dev       dev  04/30\n",
       "22869 2024-04-30 17:15:44.574   161.35.185.20  fanglanc  fanglanc  04/30\n",
       "22870 2024-04-30 17:15:52.060   193.201.9.156      test      test  04/30\n",
       "\n",
       "[22871 rows x 5 columns]"
      ]
     },
     "execution_count": 45,
     "metadata": {},
     "output_type": "execute_result"
    }
   ],
   "source": [
    "login_attempts = pd.read_csv(\n",
    "    \"data/login_attempts.txt\",\n",
    "    sep=\";\",\n",
    "    names=[TIME_COL, IP_COL, \"method\", \"Name\", \"Password\"],\n",
    "    parse_dates=[\"Time\"],\n",
    "    # MITM doesn't wrap passwords with semicolons in them in quotes\n",
    "    on_bad_lines=lambda lines: (\n",
    "        lines[:-2] + [\";\".join(lines[-2:])] if len(lines) == 6 else lines\n",
    "    ),\n",
    "    engine=\"python\",\n",
    ")\n",
    "\n",
    "login_attempts.drop(\"method\", axis=1, inplace=True)\n",
    "\n",
    "login_attempts[\"Name\"] = login_attempts[\"Name\"].apply(str)\n",
    "login_attempts[\"Password\"] = login_attempts[\"Password\"].apply(str)\n",
    "\n",
    "login_attempts = filter_date(login_attempts)\n",
    "login_attempts = setup_df(login_attempts)\n",
    "\n",
    "login_attempts"
   ]
  },
  {
   "cell_type": "code",
   "execution_count": 46,
   "metadata": {},
   "outputs": [
    {
     "data": {
      "text/plain": [
       "IP\n",
       "192.3.12.163      9501\n",
       "180.97.220.14     1395\n",
       "183.81.169.238     946\n",
       "68.183.155.250     718\n",
       "58.251.255.204     715\n",
       "179.43.180.108     701\n",
       "146.190.99.162     622\n",
       "158.69.39.171      551\n",
       "170.64.214.38      476\n",
       "170.64.166.132     476\n",
       "170.64.156.125     465\n",
       "134.209.0.27       412\n",
       "116.55.248.235     411\n",
       "138.197.147.2      325\n",
       "92.118.39.245      319\n",
       "Name: count, dtype: int64"
      ]
     },
     "execution_count": 46,
     "metadata": {},
     "output_type": "execute_result"
    }
   ],
   "source": [
    "login_attempts[\"IP\"].value_counts().nlargest(15)"
   ]
  },
  {
   "cell_type": "code",
   "execution_count": 47,
   "metadata": {},
   "outputs": [
    {
     "data": {
      "text/plain": [
       "Name\n",
       "root        14810\n",
       "admin        1002\n",
       "user          514\n",
       "ubuntu        370\n",
       "debian        301\n",
       "test          222\n",
       "oracle        202\n",
       "support       129\n",
       "ftpuser        99\n",
       "postgres       89\n",
       "Antminer       87\n",
       "guest          76\n",
       "hadoop         75\n",
       "vr             72\n",
       "test2          60\n",
       "Name: count, dtype: int64"
      ]
     },
     "execution_count": 47,
     "metadata": {},
     "output_type": "execute_result"
    }
   ],
   "source": [
    "login_attempts[\"Name\"].value_counts().nlargest(15)"
   ]
  },
  {
   "cell_type": "code",
   "execution_count": 48,
   "metadata": {},
   "outputs": [
    {
     "data": {
      "text/plain": [
       "Password\n",
       "123456      678\n",
       "root        318\n",
       "123         315\n",
       "admin       307\n",
       "1234        215\n",
       "1           213\n",
       "test        170\n",
       "password    166\n",
       "12345       162\n",
       "12345678    158\n",
       "0           137\n",
       "ubuntu      122\n",
       "eve         113\n",
       "123123      103\n",
       "admin1       94\n",
       "Name: count, dtype: int64"
      ]
     },
     "execution_count": 48,
     "metadata": {},
     "output_type": "execute_result"
    }
   ],
   "source": [
    "login_attempts[\"Password\"].value_counts().nlargest(15)"
   ]
  },
  {
   "cell_type": "code",
   "execution_count": 49,
   "metadata": {},
   "outputs": [
    {
     "data": {
      "text/plain": [
       "root / root        159\n",
       "root / admin       134\n",
       "root / 123456      128\n",
       "root / 1           123\n",
       "root / 123         123\n",
       "root / 0           119\n",
       "root / eve         112\n",
       "root / 123123       99\n",
       "admin / admin1      92\n",
       "root / 12345        78\n",
       "root / password     76\n",
       "root / 1234         74\n",
       "root / 12345678     73\n",
       "root / test         71\n",
       "root / 111111       69\n",
       "Name: count, dtype: int64"
      ]
     },
     "execution_count": 49,
     "metadata": {},
     "output_type": "execute_result"
    }
   ],
   "source": [
    "(login_attempts[\"Name\"].map(lambda n: n + \" / \") + login_attempts[\"Password\"]).value_counts().nlargest(15)"
   ]
  },
  {
   "cell_type": "code",
   "execution_count": 68,
   "metadata": {},
   "outputs": [
    {
     "data": {
      "image/png": "[encoded data removed]",
      "text/plain": [
       "<Figure size 640x480 with 1 Axes>"
      ]
     },
     "metadata": {},
     "output_type": "display_data"
    }
   ],
   "source": [
    "# Number of login attempts each day (not uniqued by IP)\n",
    "by_day = login_attempts.groupby(\"Date\").apply(lambda df: df[\"IP\"].count(), include_groups=False)\n",
    "g = sns.barplot(data=by_day)\n",
    "g.set_xticks(g.get_xticks(), labels=g.get_xticklabels(), rotation=30);"
   ]
  },
  {
   "cell_type": "code",
   "execution_count": 53,
   "metadata": {},
   "outputs": [
    {
     "data": {
      "text/plain": [
       "<Axes: xlabel='Date'>"
      ]
     },
     "execution_count": 53,
     "metadata": {},
     "output_type": "execute_result"
    },
    {
     "data": {
      "image/png": "[encoded data removed]",
      "text/plain": [
       "<Figure size 640x480 with 1 Axes>"
      ]
     },
     "metadata": {},
     "output_type": "display_data"
    }
   ],
   "source": [
    "# Number of logins each day (not uniqued by IP)\n",
    "by_day = logins.groupby(\"Date\").apply(lambda df: df[\"IP\"].count(), include_groups=False)\n",
    "sns.barplot(data=by_day)"
   ]
  },
  {
   "cell_type": "code",
   "execution_count": 91,
   "metadata": {},
   "outputs": [
    {
     "data": {
      "image/png": "[encoded data removed]",
      "text/plain": [
       "<Figure size 640x480 with 1 Axes>"
      ]
     },
     "metadata": {},
     "output_type": "display_data"
    }
   ],
   "source": [
    "# Number of login attempts each day (uniqued by IP)\n",
    "attempts_uniq_by_day = login_attempts.groupby(DATE_COL).apply(\n",
    "    lambda df: df[IP_COL].drop_duplicates().count(), include_groups=False\n",
    ")\n",
    "g = sns.barplot(data=attempts_uniq_by_day)\n",
    "g.set_xticks(g.get_xticks(), labels=g.get_xticklabels(), rotation=30);"
   ]
  },
  {
   "cell_type": "code",
   "execution_count": 89,
   "metadata": {},
   "outputs": [
    {
     "data": {
      "image/png": "[encoded data removed]",
      "text/plain": [
       "<Figure size 640x480 with 1 Axes>"
      ]
     },
     "metadata": {},
     "output_type": "display_data"
    }
   ],
   "source": [
    "# Number of logins each day (uniqued by IP)\n",
    "logins_uniq_by_day = logins.groupby(DATE_COL).apply(\n",
    "    lambda df: df[IP_COL].drop_duplicates().count(), include_groups=False\n",
    ")\n",
    "g = sns.barplot(data=logins_uniq_by_day)\n",
    "g.set_xticks(g.get_xticks(), labels=g.get_xticklabels(), rotation=30);"
   ]
  },
  {
   "cell_type": "code",
   "execution_count": 94,
   "metadata": {},
   "outputs": [
    {
     "data": {
      "text/plain": [
       "<seaborn.axisgrid.FacetGrid at 0x7f3ccf86c220>"
      ]
     },
     "execution_count": 94,
     "metadata": {},
     "output_type": "execute_result"
    },
    {
     "data": {
      "image/png": "[encoded data removed]",
      "text/plain": [
       "<Figure size 617.25x500 with 1 Axes>"
      ]
     },
     "metadata": {},
     "output_type": "display_data"
    }
   ],
   "source": [
    "# Number of logins and login attempts each day (uniqued by IP)\n",
    "both_uniq_by_day = pd.concat(\n",
    "    [\n",
    "        pd.DataFrame(\n",
    "            {\n",
    "                \"Count\": attempts_uniq_by_day,\n",
    "                \"Type\": \"Attempt\",\n",
    "            }\n",
    "        ),\n",
    "        pd.DataFrame(\n",
    "            {\n",
    "                \"Count\": logins_uniq_by_day,\n",
    "                \"Type\": \"Login\",\n",
    "            }\n",
    "        ),\n",
    "    ]\n",
    ")\n",
    "\n",
    "g = sns.catplot(data=both_uniq_by_day, kind=\"bar\", x=\"Date\", y=\"Count\", hue=\"Type\")\n",
    "g.despine(left=True)"
   ]
  },
  {
   "cell_type": "code",
   "execution_count": 59,
   "metadata": {},
   "outputs": [
    {
     "data": {
      "text/plain": [
       "<Axes: xlabel='Time', ylabel='count'>"
      ]
     },
     "execution_count": 59,
     "metadata": {},
     "output_type": "execute_result"
    },
    {
     "data": {
      "image/png": "[encoded data removed]",
      "text/plain": [
       "<Figure size 1300x500 with 1 Axes>"
      ]
     },
     "metadata": {},
     "output_type": "display_data"
    }
   ],
   "source": [
    "times_of_day = login_attempts[TIME_COL].apply(lambda dt: dt.hour)\n",
    "\n",
    "plt.figure(figsize=(13, 5))\n",
    "sns.barplot(data=times_of_day.value_counts())"
   ]
  }
 ],
 "metadata": {
  "kernelspec": {
   "display_name": "praw-playground",
   "language": "python",
   "name": "python3"
  },
  "language_info": {
   "codemirror_mode": {
    "name": "ipython",
    "version": 3
   },
   "file_extension": ".py",
   "mimetype": "text/x-python",
   "name": "python",
   "nbconvert_exporter": "python",
   "pygments_lexer": "ipython3",
   "version": "3.10.12"
  }
 },
 "nbformat": 4,
 "nbformat_minor": 2
}
